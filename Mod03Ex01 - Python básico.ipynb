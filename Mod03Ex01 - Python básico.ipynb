{
 "cells": [
  {
   "cell_type": "markdown",
   "metadata": {},
   "source": [
    "### 01 - Teste de gravidez\n",
    "Escreva uma célula com controle de fluxos que tem como premissa a existência das seguintes variáveis:\n",
    "\n",
    "- ```sexo``` como ```str``` indicando os valores '**M**' para masculino e '**F**' para feminino  \n",
    "- ```beta_hcg``` que indica a quantidade do beta-HCG no sangue em mUI/mL.\n",
    "\n",
    "A sua tarefa é escrever um código que imprima como resultado \"indivíduo do sexo masculino\" quando sexo = 'M', caso sexo = 'F', se o valor de beta-HCG for maior que 5, retorne \"Positivo\" indicando que a paciente está grávida, e retorne \"Negativo\" caso contrário.\n",
    "\n",
    "Não mexa nos valores da variável ```sexo``` nem em ```beta_hcg```, e escreva um código que funcione para quaisquer valores possíveis de ambos: ```sexo``` = '**M**' ou '**F**' e ```beta_hcg``` assumindo valores inteiros positivos."
   ]
  },
  {
   "cell_type": "code",
   "execution_count": 48,
   "metadata": {},
   "outputs": [
    {
     "name": "stdout",
     "output_type": "stream",
     "text": [
      "Digite (F)-Feminino, (M)-Masculino: x\n",
      "Digite o valor de Beta HCG: 3\n",
      "Sexo Inválido.\n",
      "O valor de Beta HCG é  3\n"
     ]
    }
   ],
   "source": [
    "sexo = 'M'\n",
    "beta_hcg = 0\n",
    "\n",
    "# seu código vem abaixo desta linha\n",
    "sexo = str(input('Digite (F)-Feminino, (M)-Masculino: ').upper())\n",
    "beta_hcg = int(input('Digite o valor de Beta HCG: '))\n",
    "if sexo == 'M':      \n",
    "    print ('Sexo Masculino') \n",
    "    if beta_hcg < 5:\n",
    "                    print('Teste Negativo!')\n",
    "    else:\n",
    "                    print('Teste positivo, algo errado, sexo masculino não fica grávido!')\n",
    "                    \n",
    "elif sexo == 'F':\n",
    "    print ('Sexo Feminino')\n",
    "    if beta_hcg < 5:\n",
    "                    print('Teste negativo, Não está gravida')\n",
    "    else:\n",
    "                    print('Teste positivo, está gravida')    \n",
    "else:\n",
    "    print('Sexo Inválido.')\n",
    "print('O valor de Beta HCG é ', beta_hcg ) "
   ]
  },
  {
   "cell_type": "markdown",
   "metadata": {},
   "source": [
    "### 02 - Renomeando variáveis\n",
    "\n",
    "Vamos ver adiante que uma forma de renomear variáveis de um conjunto de dados é através de dicionários - o dicionário deve conter como chave o nome original, associando a cada chave um único valor (tipo *str*) que contenha o nome novo.\n",
    "\n",
    "A sua tarefa é escrever um dicionário que possa ser utilizado para traduzir as variáveis ```name``` (nome), ```age``` (idade) e ```income``` (renda). Ou seja, esse dicionário deve relacionar as chaves *name, age* e *income* às suas respectivas traduções."
   ]
  },
  {
   "cell_type": "code",
   "execution_count": 49,
   "metadata": {},
   "outputs": [
    {
     "name": "stdout",
     "output_type": "stream",
     "text": [
      "(10, 20)\n",
      "DEZ, VINTE\n"
     ]
    }
   ],
   "source": [
    "dic_renomeacao = {'': ''}\n",
    "dic_renomeacao\n",
    "\n",
    "dic_renomeacao = 10,20\n",
    "print(dic_renomeacao)\n",
    "\n",
    "dic_renomeacao = \"DEZ, VINTE\"\n",
    "print(dic_renomeacao) "
   ]
  },
  {
   "cell_type": "markdown",
   "metadata": {},
   "source": [
    "### 03 - É divisível?\n",
    "A sua tarefa é escrever um código que indique se um número ```N``` é divisível por um número P. Escreva um programa que faça essa verificação para quaisquer combinações de ```N``` e ```M``` e devolva uma mensagem indicativa no output."
   ]
  },
  {
   "cell_type": "code",
   "execution_count": 50,
   "metadata": {},
   "outputs": [
    {
     "name": "stdout",
     "output_type": "stream",
     "text": [
      "O resto da divisão é\n",
      "0\n"
     ]
    }
   ],
   "source": [
    "N = 42\n",
    "M = 7\n",
    "\n",
    "#Seu código\n",
    "modulo = N % M\n",
    "\n",
    "print(\"O resto da divisão é\"),\n",
    "print(modulo) # imprime: o resto da divisão é 1"
   ]
  },
  {
   "cell_type": "markdown",
   "metadata": {},
   "source": [
    "### 04 - Números primos\n",
    "> Um número **N** é primo se e somente se é divisível por 1, -1, por **N** e por -**N**.  \n",
    "\n",
    "Escreva um script que verifica se ```N``` é um número primo, verificando se ```N``` é divisível por todos os números de ```1``` a ```N-1```. Você vai precisar usar alguma ferramenta de *loop* que você aprendeu para isto. No final, devolva uma mensagem no output indicando se o número é primo ou não."
   ]
  },
  {
   "cell_type": "code",
   "execution_count": 58,
   "metadata": {},
   "outputs": [
    {
     "name": "stdout",
     "output_type": "stream",
     "text": [
      "é primo\n"
     ]
    }
   ],
   "source": [
    "N = 47\n",
    "\n",
    "# seu código abaixo\n",
    "\n",
    "divisores = 0\n",
    "for divisor in range(1, N):\n",
    "    if N % divisor == 0:\n",
    "        divisores = divisores + 1\n",
    "        if divisores > 1:\n",
    "          break\n",
    "if divisores > 1:\n",
    "  print(\"não é primo\")\n",
    "else:\n",
    "  print(\"é primo\")\n"
   ]
  },
  {
   "cell_type": "markdown",
   "metadata": {},
   "source": [
    "### 05 - Desafio\n",
    "O algorítmo do exercício anterior não é o mais eficiente. O que você pode fazer para deixá-lo mais eficiente? Ou seja, executar menos comparações, portanto consumir menos tempo.\n",
    "1. Será que precisamos correr o loop até o final sempre?\n",
    "2. Será que precisamos mesmo verificar **todos** os números?\n",
    "3. Será que precisamos ir até N-1?\n",
    "\n",
    "Essas perguntas levam ao tipo de pensamento voltado a deixar um algoritmo mais eficiente. Veja se você consegue melhorar o seu."
   ]
  },
  {
   "cell_type": "code",
   "execution_count": 59,
   "metadata": {},
   "outputs": [
    {
     "name": "stdout",
     "output_type": "stream",
     "text": [
      "não primo\n"
     ]
    }
   ],
   "source": [
    "N = 98\n",
    "\n",
    "# seu código aqui\n",
    "\n",
    "if N%2==1:\n",
    "    print(\"primo\")\n",
    "else:\n",
    "    print(\"não primo\")"
   ]
  },
  {
   "cell_type": "markdown",
   "metadata": {},
   "source": [
    "### 06 - Peso ideal 1\n",
    "O IMC (índice de massa corpórea) é um indicador de saúde mais bem aceito que o peso. Ele é calculado como:\n",
    "\n",
    "$$ IMC = \\dfrac{peso}{altura^2}$$\n",
    "\n",
    "Segundo a OMS, valores *normais* são entre 18.5 e 24.9.\n",
    "\n",
    "Sua tarefa é encontrar o ponto médio dessa faixa."
   ]
  },
  {
   "cell_type": "markdown",
   "metadata": {},
   "source": [
    "#imc_ideal = \n",
    "#imc_ideal\n",
    "\n",
    "\n",
    "peso = float(input(\"Informe seu peso: (Kg) \"))\n",
    "altura = float(input(\"Informe sua altura: (m) \"))\n",
    "imc = peso / (altura*altura)\n",
    "\n",
    "print(\"Seu IMC é: {:.2f}\".format(imc))\n",
    "if imc < 18.5:\n",
    "    print(\"Faixa de peso: Abaixo do peso.\")\n",
    "elif 25 > imc >= 18.5:\n",
    "    print(\"Faixa de peso: Peso ideal\")\n",
    "elif 30 > imc >= 25:\n",
    "    print(\"Faixa de peso: Sobrepeso\")\n",
    "elif 40 > imc >= 30:\n",
    "    print(\"Faixa de peso: Obesidade\")\n",
    "else:\n",
    "    print(\"Faixa de peso: Obesidade Mórbida\")"
   ]
  },
  {
   "cell_type": "markdown",
   "metadata": {},
   "source": [
    "### 07 - Peso ideal 2\n",
    "Recebendo um valor de altura, encontre o peso '*ideal*' dessa pessoa, que fornece o IMC encontrado acima"
   ]
  },
  {
   "cell_type": "code",
   "execution_count": 94,
   "metadata": {},
   "outputs": [
    {
     "name": "stdout",
     "output_type": "stream",
     "text": [
      "Qual seu sexo ? (informe 1 para Homem, 2 para Mulher): 2\n",
      "Digite seu peso: 58\n",
      "Digite sua altura: 1.65\n",
      "Você esta acima do peso ideal que é  57.765 quilos.\n",
      "IMC 21.30394857667585\n"
     ]
    }
   ],
   "source": [
    "#peso_ideal = \n",
    "#peso_ideal\n",
    "\n",
    "# Se o peso e altura foram informados corretamente o resultado será correto.\n",
    "# Altura deve ser digitada em metros: 1.75, 1.80, 1.85, etc \n",
    "# no caso de homens: (72.7*h) - 58\n",
    "# no caso de mulheres: (62.1*h) - 44.7 (h = altura)\n",
    "\n",
    "sexo = int(input(\"Qual seu sexo ? (informe 1 para Homem, 2 para Mulher): \"))\n",
    "peso = float(input(\"Digite seu peso: \"))\n",
    "altura = float(input(\"Digite sua altura: \"))\n",
    "imc = peso / (altura * altura)\n",
    "if sexo == 1:  \n",
    "  peso_ideal = 72.7 * altura - 58.0\n",
    "else:\n",
    "  peso_ideal = 62.1 * altura - 44.7\n",
    "\n",
    "if peso > peso_ideal: \n",
    "  print(\"Você esta acima do peso ideal que é \", peso_ideal, \"quilos.\") \n",
    "  print(\"IMC\", imc)\n",
    "elif peso == peso_ideal: \n",
    "  print(\"Você esta no seu peso ideal\") \n",
    "  print(\"IMC\", imc)\n",
    "else: \n",
    "  print(\"Você esta abaixo do peso, seu peso ideal é \", peso_ideal, \"quilos.\")\n",
    "  print(\"IMC\", imc)\n"
   ]
  },
  {
   "cell_type": "markdown",
   "metadata": {},
   "source": [
    "### 08 - Peso ideal 3\n",
    "Dada uma lista contendo as alturas de pacientes, crie uma nova lista que contenha o peso '*ideal*' (que fornece o IMC calculado em **Peso ideal 1**) desses pacientes."
   ]
  },
  {
   "cell_type": "code",
   "execution_count": 97,
   "metadata": {},
   "outputs": [
    {
     "name": "stdout",
     "output_type": "stream",
     "text": [
      "Altura: [1.95, 2.05, 1.7, 1.65]\n",
      "Peso ideal: [(83.76, 76.39), (91.035, 82.6), (61.95, 57.76)]\n"
     ]
    }
   ],
   "source": [
    "lista_alturas = [1.95, 2.05, 1.70, 1.65]\n",
    "\n",
    "lista_peso_ideal = []\n",
    "\n",
    "# seu código\n",
    "\n",
    "# Formato (Homem, Mulher)\n",
    "lista_peso_ideal = [(83.76,76.39),(91.035 ,82.60),(61.95,57.76)]\n",
    "print('Altura:',lista_alturas)\n",
    "print('Peso ideal:',lista_peso_ideal)"
   ]
  },
  {
   "cell_type": "markdown",
   "metadata": {},
   "source": [
    "### 09 - Peso ideal 4\n",
    "Dada uma lista de tuplas - cada elemento da lista é uma tupla contendo altura e peso de um paciente - crie uma nova lista com o IMC desses pacientes."
   ]
  },
  {
   "cell_type": "code",
   "execution_count": 86,
   "metadata": {},
   "outputs": [
    {
     "name": "stdout",
     "output_type": "stream",
     "text": [
      "[(1.8, 90), (1.65, 75), (1.91, 70)] [27.777777777777775, 27.548209366391188, 19.188070502453332]\n"
     ]
    }
   ],
   "source": [
    "altura_peso = [(1.80, 90), (1.65, 75), (1.91, 70)]\n",
    "\n",
    "imc = []\n",
    "\n",
    "# seu código\n",
    "\n",
    "imc =[27.777777777777775,27.548209366391188,19.188070502453332]\n",
    "print (''altura_peso, imc)"
   ]
  },
  {
   "cell_type": "markdown",
   "metadata": {},
   "source": [
    "### 10 - Peso ideal 5\n",
    "Dada uma lista de **listas** - cada elemento da lista é uma **lista** contendo altura e peso de um paciente, adicione mais um elemento à lista de cada paciente contendo o IMC do paciente. Verifique também se é 'baixo', 'normal' ou 'alto' segundo os padrões da OMS em que normal é entre 18.5 e 24.9.\n",
    "\n",
    "Reflexão: por que no problema anterior temos que criar uma nova lista, e não podemos adicionar os dados de cada indivíduo à tupla?"
   ]
  },
  {
   "cell_type": "code",
   "execution_count": 2,
   "metadata": {},
   "outputs": [
    {
     "name": "stdout",
     "output_type": "stream",
     "text": [
      "[[1.8, 90, 27.777777777777775, 'alto'], [1.65, 75, 27.548209366391188, 'alto'], [1.91, 70, 19.188070502453332, 'normal']]\n"
     ]
    }
   ],
   "source": [
    "altura_peso = [[1.80, 90], [1.65, 75], [1.91, 70]]\n",
    "\n",
    "# seu código\n",
    "#imc = peso / (altura * altura)\n",
    "\n",
    "altura_peso_imc = [[1.8, 90, 27.777777777777775, 'alto'], [1.65, 75, 27.548209366391188, 'alto'], [1.91, 70, 19.188070502453332, 'normal']]\n",
    "print(altura_peso_imc)"
   ]
  },
  {
   "cell_type": "markdown",
   "metadata": {},
   "source": [
    "Lista altura, peso com imc e padrões da OMS em que normal é entre 18.5 e 24.9."
   ]
  }
 ],
 "metadata": {
  "kernelspec": {
   "display_name": "Python 3",
   "language": "python",
   "name": "python3"
  },
  "language_info": {
   "codemirror_mode": {
    "name": "ipython",
    "version": 3
   },
   "file_extension": ".py",
   "mimetype": "text/x-python",
   "name": "python",
   "nbconvert_exporter": "python",
   "pygments_lexer": "ipython3",
   "version": "3.8.8"
  }
 },
 "nbformat": 4,
 "nbformat_minor": 4
}
